{
 "cells": [
  {
   "cell_type": "code",
   "id": "initial_id",
   "metadata": {
    "collapsed": true,
    "ExecuteTime": {
     "end_time": "2024-10-23T06:21:03.830944Z",
     "start_time": "2024-10-23T06:21:03.809964Z"
    }
   },
   "source": [
    "# 线性回归\n",
    "import pandas as pd\n",
    "import numpy as np\n",
    "from sklearn.linear_model import LinearRegression\n",
    "from sklearn.model_selection import train_test_split\n",
    "from sklearn.metrics import mean_squared_error\n",
    "\n",
    "# 读取数据，假设数据以逗号分隔（请根据实际情况调整分隔符）\n",
    "data = pd.read_csv('boston_housing.csv', sep=',', header=0)\n",
    "\n",
    "# 分离特征和标签\n",
    "X = data.iloc[:, :-1].values\n",
    "y = data.iloc[:, -1].values\n",
    "\n",
    "# 划分训练集和测试集\n",
    "X_train, X_test, y_train, y_test = train_test_split(X, y, test_size=0.2, random_state=42)\n",
    "\n",
    "# 构建模型\n",
    "lr = LinearRegression()\n",
    "lr.fit(X_train, y_train)\n",
    "\n",
    "# 查看模型的系数（每个特征的权重）\n",
    "print(\"Coefficients:\", lr.coef_)\n",
    "\n",
    "# 查看模型的截距（常数项）\n",
    "print(\"Intercept:\", lr.intercept_)\n",
    "\n",
    "# 预测测试集\n",
    "y_pred = lr.predict(X_test)\n",
    "\n",
    "# 计算MSE和RMSE\n",
    "mse = mean_squared_error(y_test, y_pred)\n",
    "rmse = np.sqrt(mse)\n",
    "\n",
    "# 打印模型评估指标\n",
    "print('MSE:', mse)\n",
    "print('RMSE:', rmse)\n",
    "print('R^2:', lr.score(X_test, y_test))\n"
   ],
   "outputs": [
    {
     "name": "stdout",
     "output_type": "stream",
     "text": [
      "Coefficients: [-1.13055924e-01  3.01104641e-02  4.03807204e-02  2.78443820e+00\n",
      " -1.72026334e+01  4.43883520e+00 -6.29636221e-03 -1.44786537e+00\n",
      "  2.62429736e-01 -1.06467863e-02 -9.15456240e-01  1.23513347e-02\n",
      " -5.08571424e-01]\n",
      "Intercept: 30.24675099392321\n",
      "MSE: 24.29111947497324\n",
      "RMSE: 4.928602182665308\n",
      "R^2: 0.6687594935356358\n"
     ]
    }
   ],
   "execution_count": 16
  },
  {
   "metadata": {
    "ExecuteTime": {
     "end_time": "2024-10-23T06:27:12.081802Z",
     "start_time": "2024-10-23T06:27:10.816756Z"
    }
   },
   "cell_type": "code",
   "source": [
    "# 其他回归模型\n",
    "import pandas as pd\n",
    "from sklearn.model_selection import train_test_split\n",
    "from sklearn.linear_model import LinearRegression\n",
    "from sklearn.tree import DecisionTreeRegressor\n",
    "from sklearn.ensemble import RandomForestRegressor\n",
    "from sklearn.svm import SVR\n",
    "from sklearn.metrics import r2_score\n",
    "\n",
    "# 读取数据\n",
    "data = pd.read_csv('boston_housing.csv', header=0, sep=',')\n",
    "X = data.iloc[:,:-1].values\n",
    "y = data.iloc[:,-1].values\n",
    "\n",
    "# 划分训练集和测试集\n",
    "X_train, X_test, y_train, y_test = train_test_split(X, y, test_size=0.2, random_state=42)\n",
    "\n",
    "# 构建模型并训练\n",
    "models = [('Linear Regression', LinearRegression()),  #  线性回归\n",
    "          ('Decision Tree', DecisionTreeRegressor(random_state=42)),  # 决策树\n",
    "          ('Random Forest', RandomForestRegressor(random_state=42)),  # 随机森林\n",
    "          ('Support Vector Regression', SVR(kernel='linear'))]  # 支持向量回归\n",
    "\n",
    "for name, model in models:\n",
    "    model.fit(X_train, y_train)\n",
    "    y_pred = model.predict(X_test)\n",
    "    r2 = r2_score(y_test, y_pred)\n",
    "    print(f'{name} R^2: {r2:.3f}')\n"
   ],
   "id": "1421230dd7d09c6b",
   "outputs": [
    {
     "name": "stdout",
     "output_type": "stream",
     "text": [
      "Linear Regression R^2: 0.669\n",
      "Decision Tree R^2: 0.858\n",
      "Random Forest R^2: 0.892\n",
      "Support Vector Regression R^2: 0.599\n"
     ]
    }
   ],
   "execution_count": 20
  },
  {
   "metadata": {},
   "cell_type": "code",
   "outputs": [],
   "execution_count": null,
   "source": "# 使用pytorch实现线性回归\n",
   "id": "7eb0e54c4a9ab347"
  }
 ],
 "metadata": {
  "kernelspec": {
   "display_name": "Python 3",
   "language": "python",
   "name": "python3"
  },
  "language_info": {
   "codemirror_mode": {
    "name": "ipython",
    "version": 2
   },
   "file_extension": ".py",
   "mimetype": "text/x-python",
   "name": "python",
   "nbconvert_exporter": "python",
   "pygments_lexer": "ipython2",
   "version": "2.7.6"
  }
 },
 "nbformat": 4,
 "nbformat_minor": 5
}
